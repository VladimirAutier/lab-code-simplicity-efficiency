{
 "cells": [
  {
   "cell_type": "code",
   "execution_count": null,
   "metadata": {},
   "outputs": [
    {
     "name": "stdout",
     "output_type": "stream",
     "text": [
      "Welcome to this calculator!\n",
      "It can add and subtract any whole numbers\n",
      "Select operation.\n"
     ]
    }
   ],
   "source": [
    "def add(x, y):\n",
    "       return x + y\n",
    "\n",
    "def subtract(x, y):\n",
    "       return x - y\n",
    "\n",
    "\n",
    "print('Welcome to this calculator!')\n",
    "print('It can add and subtract any whole numbers')\n",
    "print(\"Select operation.\")\n",
    "\n",
    "choice = input(\"Enter choice(plus/minus): \")\n",
    "num1 = float(input(\"Enter first number: \"))\n",
    "num2 = float(input(\"Enter second number: \"))\n",
    "\n",
    "if choice == 'plus':\n",
    "       print(num1,\"+\",num2,\"=\", add(num1,num2))\n",
    "elif choice == 'minus':\n",
    "       print(num1,\"-\",num2,\"=\", subtract(num1,num2))\n",
    "else:\n",
    "       print(\"Invalid input\")\n"
   ]
  },
  {
   "cell_type": "code",
   "execution_count": null,
   "metadata": {},
   "outputs": [],
   "source": []
  },
  {
   "cell_type": "code",
   "execution_count": null,
   "metadata": {},
   "outputs": [],
   "source": []
  }
 ],
 "metadata": {
  "kernelspec": {
   "display_name": "Python 3",
   "language": "python",
   "name": "python3"
  },
  "language_info": {
   "codemirror_mode": {
    "name": "ipython",
    "version": 3
   },
   "file_extension": ".py",
   "mimetype": "text/x-python",
   "name": "python",
   "nbconvert_exporter": "python",
   "pygments_lexer": "ipython3",
   "version": "3.7.3"
  }
 },
 "nbformat": 4,
 "nbformat_minor": 2
}
